{
  "nbformat": 4,
  "nbformat_minor": 0,
  "metadata": {
    "colab": {
      "name": "Untitled1.ipynb",
      "version": "0.3.2",
      "provenance": [],
      "include_colab_link": true
    },
    "kernelspec": {
      "name": "python3",
      "display_name": "Python 3"
    }
  },
  "cells": [
    {
      "cell_type": "markdown",
      "metadata": {
        "id": "view-in-github",
        "colab_type": "text"
      },
      "source": [
        "[View in Colaboratory](https://colab.research.google.com/github/ElectiveOrc9/GraficasMolecular/blob/master/Untitled1.ipynb)"
      ]
    },
    {
      "metadata": {
        "id": "uyVDgM05eGrV",
        "colab_type": "code",
        "colab": {}
      },
      "cell_type": "code",
      "source": [
        "#Author: Angel Octavio Parada Flores\n",
        "#Fecha: 28/08/18\n",
        "#Grafica y\n",
        "import matplotlib.pyplot as plt\n",
        "import numpy as np\n",
        "import math\n",
        "\n",
        "def f(x):\n",
        " if x >= 0:\n",
        "  return(x**5*math.exp(-x))\n",
        " else: \n",
        "  return 0\n",
        "\n",
        "def fxvector(x):\n",
        " fxvector = []\n",
        " for i in np.nditer(x):\n",
        "  fxvector.append(f(i))\n",
        " return fxvector\n",
        "\n",
        "xvector = np.arange(-2, 25, 0.1)\n",
        "print (xvector.size)\n",
        "print (fxvector(xvector))\n",
        "\n",
        "fxvector(xvector)\n",
        "\n",
        "plt.plot(xvector, fxvector(xvector), 'k')\n",
        "plt.savefig('fy3.jpg')\n",
        "plt.show()"
      ],
      "execution_count": 0,
      "outputs": []
    },
    {
      "metadata": {
        "id": "Xxuft4xBjfvF",
        "colab_type": "code",
        "colab": {}
      },
      "cell_type": "code",
      "source": [
        "#Author: Angel Octavio Parada Flores\n",
        "#Fecha: 24/04/18\n",
        "#Grafica de dos funciones\n",
        "import numpy as np \n",
        "import matplotlib.pyplot as plt\n",
        "\n",
        "def f(t): \n",
        "    return np.exp(-t)*np.cos(2*np.pi*t)\n",
        "#Definimos el rango de las variables\n",
        "t1 = np.arange(0.0, 5.0, 0.1)\n",
        "t2 = np.arange(0.0, 5.0, 0.1)\n",
        "#Crear el grupo de graficas\n",
        "plt.figure(1)\n",
        "#Crear un lienzo de dos renglones, una columna y vamos a entrar a la primera division del lienzo\n",
        "plt.subplot(211)\n",
        "#Graficar la variable t1 contra la funcion f(t1) con circulos azules\n",
        "#Graficar la variable t2 contra la funcion f(t2) con una linea negra\n",
        "plt.plot(t1, f(t1), 'bo', t2, f(t2), 'k')\n",
        "#Graficar el segundo renglon del lienzo\n",
        "plt.subplot(212)\n",
        "#Graficar la variable t2 contra la funcion cos(2*pi*t) con una linea punteada\n",
        "plt.plot(t2, np.cos(2*np.pi*t2), 'r--')\n",
        "#Guardar la grafica\n",
        "plt.savefig('Dosfunciones.jpg')\n",
        "#Mostrar la grafica\n",
        "plt.show() "
      ],
      "execution_count": 0,
      "outputs": []
    },
    {
      "metadata": {
        "id": "RZEXcny_juRx",
        "colab_type": "code",
        "colab": {}
      },
      "cell_type": "code",
      "source": [
        "import matplotlib.pyplot as plt\n",
        "import numpy as np\n",
        "import math\n",
        "\n",
        "def f(x):\n",
        "  return (0.4**x)*0.6**(10-x)\n",
        "def g(x):\n",
        "  return (0.6**x)*0.4**(10-x)\n",
        "x = np.arange(-24, 34.1, 0.01)\n",
        "plt.figure(1)\n",
        "plt.plot (x,f(x), 'k', x, g(x), '--m')\n",
        "plt.savefig ('Graficaa.jpg')\n",
        "plt.show()"
      ],
      "execution_count": 0,
      "outputs": []
    },
    {
      "metadata": {
        "id": "OVklFPmpop3O",
        "colab_type": "code",
        "colab": {}
      },
      "cell_type": "code",
      "source": [
        "import matplotlib.pyplot as plt\n",
        "import numpy as np\n",
        "import math\n",
        "\n",
        "def factorial(x):\n",
        "  resultado=1\n",
        "  for i in range(1, x+1):\n",
        "    resultado = resultado*i\n",
        "    return resultado\n",
        "def f(x):\n",
        "  return (0.5**x)*math.exp(-0.5)/factorial(x)\n",
        "def g(x):\n",
        "  return (5**x)*math.exp(-5)/factorial(x)\n",
        "x = np.arange(0, 20, 0.01)\n",
        "plt.figure(1)\n",
        "plt.plot (x,f(x), 'k', x, g(x), '--m')\n",
        "plt.savefig ('Graficab.jpg')\n",
        "plt.show()"
      ],
      "execution_count": 0,
      "outputs": []
    },
    {
      "metadata": {
        "id": "ycpyMh5lshDX",
        "colab_type": "code",
        "colab": {}
      },
      "cell_type": "code",
      "source": [
        "import matplotlib.pyplot as plt\n",
        "import numpy as np\n",
        "import math\n",
        "\n",
        "def f(x):\n",
        "  return np.exp((-x**2)/10)/np.sqrt(2*np.pi)\n",
        "\n",
        "x = np.arange(-10, 10, 0.1)\n",
        "plt.figure(1)\n",
        "plt.plot (x,f(x), 'k')\n",
        "plt.savefig ('Graficac.jpg')\n",
        "plt.show()"
      ],
      "execution_count": 0,
      "outputs": []
    },
    {
      "metadata": {
        "id": "14eU8nUSt5TJ",
        "colab_type": "code",
        "colab": {}
      },
      "cell_type": "code",
      "source": [
        "import matplotlib.pyplot as plt\n",
        "import numpy as np\n",
        "import math\n",
        "\n",
        "def factorial(x):\n",
        "  resultado=1\n",
        "  for i in range(1, x+1):\n",
        "    resultado = resultado*i\n",
        "    return resultado\n",
        "def f(x):\n",
        "  return (0.4**x)*((1-0.4)**(10-x))*bincoeff(10, x)\n",
        "def g(x):\n",
        "  return (0.6**x)*((1-0.6)**(10-x))*bincoeff(10, x)\n",
        "x = np.arange(0, 20, 0.01)\n",
        "plt.figure(1)\n",
        "plt.plot (x,f(x), 'k', x, g(x), '--m')\n",
        "plt.savefig ('Graficad.jpg')\n",
        "plt.show()"
      ],
      "execution_count": 0,
      "outputs": []
    },
    {
      "metadata": {
        "id": "gjoMXuxau1wW",
        "colab_type": "code",
        "colab": {}
      },
      "cell_type": "code",
      "source": [
        "import matplotlib.pyplot as plt\n",
        "import numpy as np\n",
        "import math\n",
        "\n",
        "def f(x):\n",
        "  return 2*np.exp(-2*x)\n",
        "\n",
        "x = np.arange(0, 3, 0.1)\n",
        "plt.figure(1)\n",
        "plt.plot (x,f(x), 'k')\n",
        "plt.savefig ('Graficae.jpg')\n",
        "plt.show()"
      ],
      "execution_count": 0,
      "outputs": []
    },
    {
      "metadata": {
        "id": "ocDMvDbmvNHs",
        "colab_type": "code",
        "colab": {
          "base_uri": "https://localhost:8080/",
          "height": 347
        },
        "outputId": "4435595e-0cd9-48c9-f10e-3c3663084d11"
      },
      "cell_type": "code",
      "source": [
        "import matplotlib.pyplot as plt\n",
        "import numpy as np\n",
        "import math\n",
        "\n",
        "def f(x):\n",
        "  return (1/np.pi)*10*(((x-1)**2)+400)**-1\n",
        "\n",
        "x = np.arange(-90, 90, 0.1)\n",
        "plt.figure(1)\n",
        "plt.plot (x,f(x), 'k')\n",
        "plt.savefig ('Graficaf.jpg')\n",
        "plt.show()\n"
      ],
      "execution_count": 88,
      "outputs": [
        {
          "output_type": "display_data",
          "data": {
            "image/png": "[encoded data removed]",
            "text/plain": [
              "<matplotlib.figure.Figure at 0x7f29c90f6b38>"
            ]
          },
          "metadata": {
            "tags": []
          }
        }
      ]
    },
    {
      "metadata": {
        "id": "j4voOJHYwPe_",
        "colab_type": "code",
        "colab": {}
      },
      "cell_type": "code",
      "source": [
        "import matplotlib.pyplot as plt\n",
        "import numpy as np\n",
        "import math\n",
        "\n",
        "def f(x):\n",
        "  return 4/3\n",
        "\n",
        "x = np.arange(-10, 10, 0.1)\n",
        "plt.figure(1)\n",
        "plt.plot (x,f(x), 'k')\n",
        "plt.savefig ('Graficag.jpg')\n",
        "plt.show()"
      ],
      "execution_count": 0,
      "outputs": []
    }
  ]
}